{
 "cells": [
  {
   "cell_type": "markdown",
   "id": "64794c97",
   "metadata": {},
   "source": [
    "# 1. Loan Data EDA\n",
    "Burada **loan_data** veri setinin keşifsel veri analizini gerçekleştirelim ve veri setimizi daha yakından tanıyalım.\n",
    "\n"
   ]
  },
  {
   "cell_type": "markdown",
   "id": "cf3ae1b1",
   "metadata": {},
   "source": [
    "## 1.1.Gerekli Kütüphanelerin Yüklenmesi"
   ]
  },
  {
   "cell_type": "code",
   "execution_count": 1,
   "id": "56987dbb",
   "metadata": {},
   "outputs": [
    {
     "name": "stdout",
     "output_type": "stream",
     "text": [
      "Loan dataset indirildi.Ilk bes sutunu gosteriliyor...\n",
      "  Loan_ID loan_status  Principal  terms effective_date    due_date  \\\n",
      "0      L1     PAIDOFF       1000      7     2021-01-01  2021-01-08   \n",
      "1      L2     PAIDOFF       1500     15     2021-01-02  2021-01-09   \n",
      "2      L3     PAIDOFF       2000     30     2021-01-03  2021-01-10   \n",
      "3      L4     PAIDOFF       2500      7     2021-01-04  2021-01-11   \n",
      "4      L5     PAIDOFF       3000     15     2021-01-05  2021-01-12   \n",
      "\n",
      "  paid_off_time  past_due_days  age             education  Gender  \n",
      "0           NaN              0   20  High School or Below    male  \n",
      "1    2021-01-11              0   21               college  female  \n",
      "2    2021-01-12              0   22              Bechalor    male  \n",
      "3    2021-01-13              0   23       Master or Above  female  \n",
      "4    2021-01-14              0   24  High School or Below    male  \n",
      "Loan dataset indirildi.Ilk bes sutunu gosteriliyor...\n",
      "  Loan_ID loan_status  Principal  terms effective_date    due_date  \\\n",
      "0      L1     PAIDOFF       1000      7     2021-01-01  2021-01-08   \n",
      "1      L2     PAIDOFF       1500     15     2021-01-02  2021-01-09   \n",
      "2      L3     PAIDOFF       2000     30     2021-01-03  2021-01-10   \n",
      "3      L4     PAIDOFF       2500      7     2021-01-04  2021-01-11   \n",
      "4      L5     PAIDOFF       3000     15     2021-01-05  2021-01-12   \n",
      "\n",
      "  paid_off_time  past_due_days  age             education  Gender  \n",
      "0           NaN              0   20  High School or Below    male  \n",
      "1    2021-01-11              0   21               college  female  \n",
      "2    2021-01-12              0   22              Bechalor    male  \n",
      "3    2021-01-13              0   23       Master or Above  female  \n",
      "4    2021-01-14              0   24  High School or Below    male  \n"
     ]
    }
   ],
   "source": [
    "# import required libraries\n",
    "import pandas as pd\n",
    "import numpy as np\n",
    "import matplotlib.pyplot as plt\n",
    "import seaborn as sns\n",
    "import warnings\n",
    "from warnings import filterwarnings\n",
    "filterwarnings('ignore')\n",
    "import sys\n",
    "import os\n",
    "sys.path.append(os.path.abspath('../src'))\n",
    "\n",
    "from data_loader import load_loan_data\n",
    "\n",
    "\n",
    "loan_df = load_loan_data(save_to_disk=False) \n"
   ]
  },
  {
   "cell_type": "markdown",
   "id": "8faf832f",
   "metadata": {},
   "source": [
    "## 1.2. Gerekli loan_dataset'inin Yüklenmesi"
   ]
  },
  {
   "cell_type": "code",
   "execution_count": null,
   "id": "c49f7af7",
   "metadata": {},
   "outputs": [
    {
     "name": "stdout",
     "output_type": "stream",
     "text": [
      "Loan dataset indirildi.Ilk bes sutunu gosteriliyor...\n",
      "  Loan_ID loan_status  Principal  terms effective_date    due_date  \\\n",
      "0      L1     PAIDOFF       1000      7     2021-01-01  2021-01-08   \n",
      "1      L2     PAIDOFF       1500     15     2021-01-02  2021-01-09   \n",
      "2      L3     PAIDOFF       2000     30     2021-01-03  2021-01-10   \n",
      "3      L4     PAIDOFF       2500      7     2021-01-04  2021-01-11   \n",
      "4      L5     PAIDOFF       3000     15     2021-01-05  2021-01-12   \n",
      "\n",
      "  paid_off_time  past_due_days  age             education  Gender  \n",
      "0           NaN              0   20  High School or Below    male  \n",
      "1    2021-01-11              0   21               college  female  \n",
      "2    2021-01-12              0   22              Bechalor    male  \n",
      "3    2021-01-13              0   23       Master or Above  female  \n",
      "4    2021-01-14              0   24  High School or Below    male  \n",
      "\n",
      "Son 5 Satir:\n",
      "\n"
     ]
    },
    {
     "data": {
      "application/vnd.microsoft.datawrangler.viewer.v0+json": {
       "columns": [
        {
         "name": "index",
         "rawType": "int64",
         "type": "integer"
        },
        {
         "name": "Loan_ID",
         "rawType": "object",
         "type": "string"
        },
        {
         "name": "loan_status",
         "rawType": "object",
         "type": "string"
        },
        {
         "name": "Principal",
         "rawType": "int64",
         "type": "integer"
        },
        {
         "name": "terms",
         "rawType": "int64",
         "type": "integer"
        },
        {
         "name": "effective_date",
         "rawType": "object",
         "type": "string"
        },
        {
         "name": "due_date",
         "rawType": "object",
         "type": "string"
        },
        {
         "name": "paid_off_time",
         "rawType": "object",
         "type": "unknown"
        },
        {
         "name": "past_due_days",
         "rawType": "int64",
         "type": "integer"
        },
        {
         "name": "age",
         "rawType": "int64",
         "type": "integer"
        },
        {
         "name": "education",
         "rawType": "object",
         "type": "string"
        },
        {
         "name": "Gender",
         "rawType": "object",
         "type": "string"
        }
       ],
       "ref": "264a2d76-8e5a-443e-8b16-1dc117b83098",
       "rows": [
        [
         "495",
         "L496",
         "COLLECTION",
         "1000",
         "7",
         "2022-05-11",
         "2022-05-18",
         null,
         "5",
         "35",
         "Master or Above",
         "female"
        ],
        [
         "496",
         "L497",
         "COLLECTION",
         "1500",
         "15",
         "2022-05-12",
         "2022-05-19",
         "2021-01-16",
         "0",
         "36",
         "High School or Below",
         "male"
        ],
        [
         "497",
         "L498",
         "COLLECTION",
         "2000",
         "30",
         "2022-05-13",
         "2022-05-20",
         "2021-01-17",
         "0",
         "37",
         "college",
         "female"
        ],
        [
         "498",
         "L499",
         "COLLECTION",
         "2500",
         "7",
         "2022-05-14",
         "2022-05-21",
         "2021-01-18",
         "0",
         "38",
         "Bechalor",
         "male"
        ],
        [
         "499",
         "L500",
         "COLLECTION",
         "3000",
         "15",
         "2022-05-15",
         "2022-05-22",
         "2021-01-19",
         "0",
         "39",
         "Master or Above",
         "female"
        ]
       ],
       "shape": {
        "columns": 11,
        "rows": 5
       }
      },
      "text/html": [
       "<div>\n",
       "<style scoped>\n",
       "    .dataframe tbody tr th:only-of-type {\n",
       "        vertical-align: middle;\n",
       "    }\n",
       "\n",
       "    .dataframe tbody tr th {\n",
       "        vertical-align: top;\n",
       "    }\n",
       "\n",
       "    .dataframe thead th {\n",
       "        text-align: right;\n",
       "    }\n",
       "</style>\n",
       "<table border=\"1\" class=\"dataframe\">\n",
       "  <thead>\n",
       "    <tr style=\"text-align: right;\">\n",
       "      <th></th>\n",
       "      <th>Loan_ID</th>\n",
       "      <th>loan_status</th>\n",
       "      <th>Principal</th>\n",
       "      <th>terms</th>\n",
       "      <th>effective_date</th>\n",
       "      <th>due_date</th>\n",
       "      <th>paid_off_time</th>\n",
       "      <th>past_due_days</th>\n",
       "      <th>age</th>\n",
       "      <th>education</th>\n",
       "      <th>Gender</th>\n",
       "    </tr>\n",
       "  </thead>\n",
       "  <tbody>\n",
       "    <tr>\n",
       "      <th>495</th>\n",
       "      <td>L496</td>\n",
       "      <td>COLLECTION</td>\n",
       "      <td>1000</td>\n",
       "      <td>7</td>\n",
       "      <td>2022-05-11</td>\n",
       "      <td>2022-05-18</td>\n",
       "      <td>NaN</td>\n",
       "      <td>5</td>\n",
       "      <td>35</td>\n",
       "      <td>Master or Above</td>\n",
       "      <td>female</td>\n",
       "    </tr>\n",
       "    <tr>\n",
       "      <th>496</th>\n",
       "      <td>L497</td>\n",
       "      <td>COLLECTION</td>\n",
       "      <td>1500</td>\n",
       "      <td>15</td>\n",
       "      <td>2022-05-12</td>\n",
       "      <td>2022-05-19</td>\n",
       "      <td>2021-01-16</td>\n",
       "      <td>0</td>\n",
       "      <td>36</td>\n",
       "      <td>High School or Below</td>\n",
       "      <td>male</td>\n",
       "    </tr>\n",
       "    <tr>\n",
       "      <th>497</th>\n",
       "      <td>L498</td>\n",
       "      <td>COLLECTION</td>\n",
       "      <td>2000</td>\n",
       "      <td>30</td>\n",
       "      <td>2022-05-13</td>\n",
       "      <td>2022-05-20</td>\n",
       "      <td>2021-01-17</td>\n",
       "      <td>0</td>\n",
       "      <td>37</td>\n",
       "      <td>college</td>\n",
       "      <td>female</td>\n",
       "    </tr>\n",
       "    <tr>\n",
       "      <th>498</th>\n",
       "      <td>L499</td>\n",
       "      <td>COLLECTION</td>\n",
       "      <td>2500</td>\n",
       "      <td>7</td>\n",
       "      <td>2022-05-14</td>\n",
       "      <td>2022-05-21</td>\n",
       "      <td>2021-01-18</td>\n",
       "      <td>0</td>\n",
       "      <td>38</td>\n",
       "      <td>Bechalor</td>\n",
       "      <td>male</td>\n",
       "    </tr>\n",
       "    <tr>\n",
       "      <th>499</th>\n",
       "      <td>L500</td>\n",
       "      <td>COLLECTION</td>\n",
       "      <td>3000</td>\n",
       "      <td>15</td>\n",
       "      <td>2022-05-15</td>\n",
       "      <td>2022-05-22</td>\n",
       "      <td>2021-01-19</td>\n",
       "      <td>0</td>\n",
       "      <td>39</td>\n",
       "      <td>Master or Above</td>\n",
       "      <td>female</td>\n",
       "    </tr>\n",
       "  </tbody>\n",
       "</table>\n",
       "</div>"
      ],
      "text/plain": [
       "    Loan_ID loan_status  Principal  terms effective_date    due_date  \\\n",
       "495    L496  COLLECTION       1000      7     2022-05-11  2022-05-18   \n",
       "496    L497  COLLECTION       1500     15     2022-05-12  2022-05-19   \n",
       "497    L498  COLLECTION       2000     30     2022-05-13  2022-05-20   \n",
       "498    L499  COLLECTION       2500      7     2022-05-14  2022-05-21   \n",
       "499    L500  COLLECTION       3000     15     2022-05-15  2022-05-22   \n",
       "\n",
       "    paid_off_time  past_due_days  age             education  Gender  \n",
       "495           NaN              5   35       Master or Above  female  \n",
       "496    2021-01-16              0   36  High School or Below    male  \n",
       "497    2021-01-17              0   37               college  female  \n",
       "498    2021-01-18              0   38              Bechalor    male  \n",
       "499    2021-01-19              0   39       Master or Above  female  "
      ]
     },
     "execution_count": 58,
     "metadata": {},
     "output_type": "execute_result"
    }
   ],
   "source": [
    "# Veri setini yukleyelim\n",
    "loan_df = load_loan_data(save_to_disk=False)\n",
    "\n",
    "print(\"\\nSon 5 Satir:\\n\")\n",
    "loan_df.tail()\n"
   ]
  },
  {
   "cell_type": "markdown",
   "id": "1a76bf92",
   "metadata": {},
   "source": [
    "## 1.3. Sütun İsimlerinin ve Veri Tiplerinin Öğrenilmesi"
   ]
  },
  {
   "cell_type": "code",
   "execution_count": 48,
   "id": "315558a1",
   "metadata": {},
   "outputs": [
    {
     "name": "stdout",
     "output_type": "stream",
     "text": [
      "0. Sutun: Loan_ID, Veri Tipi: object\n",
      "1. Sutun: loan_status, Veri Tipi: object\n",
      "2. Sutun: Principal, Veri Tipi: int64\n",
      "3. Sutun: terms, Veri Tipi: int64\n",
      "4. Sutun: effective_date, Veri Tipi: object\n",
      "5. Sutun: due_date, Veri Tipi: object\n",
      "6. Sutun: paid_off_time, Veri Tipi: object\n",
      "7. Sutun: past_due_days, Veri Tipi: int64\n",
      "8. Sutun: age, Veri Tipi: int64\n",
      "9. Sutun: education, Veri Tipi: object\n",
      "10. Sutun: Gender, Veri Tipi: object\n"
     ]
    }
   ],
   "source": [
    "# Veri tiplerini ve sutunlarini ogren\n",
    "loan_columns = loan_df.columns\n",
    "# print(\"Veri Setinin Sutunlari:\\n\", loan_columns)\n",
    "\n",
    "# Veri tiplerini ogrenmek icin list comprehension kullanabiliriz.\n",
    "# [f\"{col} sutunun veri tipi: {loan_df[col].dtypes}\" for col in loan_df.columns]\n",
    "\n",
    "# Daha iyi gormek icin sutuna id atayalim\n",
    "for idx, col in enumerate(loan_columns):\n",
    "    print(f\"{idx}. Sutun: {col}, Veri Tipi: {loan_df[col].dtype}\")"
   ]
  },
  {
   "cell_type": "markdown",
   "id": "4ec48b5c",
   "metadata": {},
   "source": [
    "## 1.4. Grab Col Names Fonksiyonu ile Gerçek Veri Tiplerinin Öğrenilmesi"
   ]
  },
  {
   "cell_type": "code",
   "execution_count": 12,
   "id": "f289d287",
   "metadata": {},
   "outputs": [],
   "source": [
    "def grab_col_names(dataframe, cat_th = 10, car_th = 20):\n",
    "    \"\"\"Veri setindeki kategorik, numerik ve kategorik fakat kardinal degiskenlerin isimlerini verir.\"\"\"\n",
    "    df = dataframe.copy()\n",
    "    # kategorik sutunlar\n",
    "    cat_cols = [col for col in df.columns if df[col].dtypes == 'object']\n",
    "    \n",
    "    # numerik fakat kategorik olan sutunlar\n",
    "    num_but_cat = [col for col in df.columns if df[col].nunique() < cat_th and\n",
    "                   df[col].dtypes != 'object']\n",
    "    \n",
    "    # kategorik fakat kardinal olan sutunlar.Bunlarin faydasi genellikle azdir ve modelden cikarilabilir.\n",
    "    cat_but_car = [col for col in df.columns if df[col].dtypes == 'object' and\n",
    "                   df[col].nunique() > car_th]\n",
    "    \n",
    "    \n",
    "    # kategorik sutunlarin son hali\n",
    "    cat_cols = [col for col in cat_cols if col not in cat_but_car]\n",
    "    \n",
    "    cat_cols = cat_cols + num_but_cat\n",
    "    \n",
    "    num_cols = [col for col in df.columns if df[col].dtypes in ['float64', 'int64'] and \n",
    "                col not in num_but_cat]\n",
    "    \n",
    "    return cat_cols, num_cols, cat_but_car\n",
    "  "
   ]
  },
  {
   "cell_type": "markdown",
   "id": "c164ccc0",
   "metadata": {},
   "source": [
    "## 1.5. Kategorik Sütunların Gösterilmesi"
   ]
  },
  {
   "cell_type": "code",
   "execution_count": 19,
   "id": "60a85e96",
   "metadata": {},
   "outputs": [
    {
     "name": "stdout",
     "output_type": "stream",
     "text": [
      "************************************Kategorik Sutunlar********************************************\n",
      " ['loan_status', 'paid_off_time', 'education', 'Gender', 'Principal', 'terms', 'past_due_days']\n"
     ]
    }
   ],
   "source": [
    "cat_cols, num_cols, cat_but_car = grab_col_names(loan_df)\n",
    "print(f\"************************************Kategorik Sutunlar********************************************\\n {cat_cols}\")"
   ]
  },
  {
   "cell_type": "markdown",
   "id": "7c5b0c0b",
   "metadata": {},
   "source": [
    "## 1.6. Sayısal (Nümerik) Sütunların Gösterilmesi"
   ]
  },
  {
   "cell_type": "code",
   "execution_count": null,
   "id": "cf07afc2",
   "metadata": {},
   "outputs": [
    {
     "name": "stdout",
     "output_type": "stream",
     "text": [
      "*** Numerik Sutunlar ***\n",
      " ['age']\n"
     ]
    }
   ],
   "source": [
    "print(f\"*** Numerik Sutunlar ***\\n\",num_cols)"
   ]
  },
  {
   "cell_type": "markdown",
   "id": "514414ef",
   "metadata": {},
   "source": [
    "## 1.7. Kardinal Sütunların Gösterilmesi"
   ]
  },
  {
   "cell_type": "code",
   "execution_count": 30,
   "id": "e898ec57",
   "metadata": {},
   "outputs": [
    {
     "name": "stdout",
     "output_type": "stream",
     "text": [
      "************ Kardinal Sutunlar ************\n",
      " ['Loan_ID', 'effective_date', 'due_date']\n"
     ]
    }
   ],
   "source": [
    "print(\"************ Kardinal Sutunlar ************\\n\",cat_but_car)"
   ]
  },
  {
   "cell_type": "markdown",
   "id": "e0b3f30c",
   "metadata": {},
   "source": [
    "## 1.8. Describe() Metodu ile Sayısal Sütun İstatistiklerinin Gösterilmesi"
   ]
  },
  {
   "cell_type": "code",
   "execution_count": 31,
   "id": "b68e58d0",
   "metadata": {},
   "outputs": [
    {
     "data": {
      "application/vnd.microsoft.datawrangler.viewer.v0+json": {
       "columns": [
        {
         "name": "index",
         "rawType": "object",
         "type": "string"
        },
        {
         "name": "count",
         "rawType": "float64",
         "type": "float"
        },
        {
         "name": "mean",
         "rawType": "float64",
         "type": "float"
        },
        {
         "name": "std",
         "rawType": "float64",
         "type": "float"
        },
        {
         "name": "min",
         "rawType": "float64",
         "type": "float"
        },
        {
         "name": "25%",
         "rawType": "float64",
         "type": "float"
        },
        {
         "name": "50%",
         "rawType": "float64",
         "type": "float"
        },
        {
         "name": "75%",
         "rawType": "float64",
         "type": "float"
        },
        {
         "name": "max",
         "rawType": "float64",
         "type": "float"
        }
       ],
       "ref": "24b3e301-022a-46f6-8861-c1db64f9667e",
       "rows": [
        [
         "age",
         "500.0",
         "39.1",
         "11.548017727162266",
         "20.0",
         "29.0",
         "39.0",
         "49.0",
         "59.0"
        ]
       ],
       "shape": {
        "columns": 8,
        "rows": 1
       }
      },
      "text/html": [
       "<div>\n",
       "<style scoped>\n",
       "    .dataframe tbody tr th:only-of-type {\n",
       "        vertical-align: middle;\n",
       "    }\n",
       "\n",
       "    .dataframe tbody tr th {\n",
       "        vertical-align: top;\n",
       "    }\n",
       "\n",
       "    .dataframe thead th {\n",
       "        text-align: right;\n",
       "    }\n",
       "</style>\n",
       "<table border=\"1\" class=\"dataframe\">\n",
       "  <thead>\n",
       "    <tr style=\"text-align: right;\">\n",
       "      <th></th>\n",
       "      <th>count</th>\n",
       "      <th>mean</th>\n",
       "      <th>std</th>\n",
       "      <th>min</th>\n",
       "      <th>25%</th>\n",
       "      <th>50%</th>\n",
       "      <th>75%</th>\n",
       "      <th>max</th>\n",
       "    </tr>\n",
       "  </thead>\n",
       "  <tbody>\n",
       "    <tr>\n",
       "      <th>age</th>\n",
       "      <td>500.0</td>\n",
       "      <td>39.1</td>\n",
       "      <td>11.548018</td>\n",
       "      <td>20.0</td>\n",
       "      <td>29.0</td>\n",
       "      <td>39.0</td>\n",
       "      <td>49.0</td>\n",
       "      <td>59.0</td>\n",
       "    </tr>\n",
       "  </tbody>\n",
       "</table>\n",
       "</div>"
      ],
      "text/plain": [
       "     count  mean        std   min   25%   50%   75%   max\n",
       "age  500.0  39.1  11.548018  20.0  29.0  39.0  49.0  59.0"
      ]
     },
     "execution_count": 31,
     "metadata": {},
     "output_type": "execute_result"
    }
   ],
   "source": [
    "# describe () metodu ile numerik degiskenlerin betimsel istatistiklerini ogren\n",
    "loan_df[num_cols].describe().T"
   ]
  },
  {
   "cell_type": "markdown",
   "id": "7881a5b9",
   "metadata": {},
   "source": [
    "## 1.9. Describe() Metodu ile Kategorik Sütunların İstatistiklerinin Gösterilmesi"
   ]
  },
  {
   "cell_type": "code",
   "execution_count": 32,
   "id": "dcb8257b",
   "metadata": {},
   "outputs": [
    {
     "data": {
      "application/vnd.microsoft.datawrangler.viewer.v0+json": {
       "columns": [
        {
         "name": "index",
         "rawType": "object",
         "type": "string"
        },
        {
         "name": "count",
         "rawType": "object",
         "type": "unknown"
        },
        {
         "name": "unique",
         "rawType": "object",
         "type": "unknown"
        },
        {
         "name": "top",
         "rawType": "object",
         "type": "string"
        },
        {
         "name": "freq",
         "rawType": "object",
         "type": "unknown"
        }
       ],
       "ref": "b300a2eb-722a-4a6d-85cf-fae2b3b99e5e",
       "rows": [
        [
         "Loan_ID",
         "500",
         "500",
         "L1",
         "1"
        ],
        [
         "loan_status",
         "500",
         "2",
         "PAIDOFF",
         "300"
        ],
        [
         "effective_date",
         "500",
         "500",
         "2021-01-01",
         "1"
        ],
        [
         "due_date",
         "500",
         "500",
         "2021-01-08",
         "1"
        ],
        [
         "paid_off_time",
         "400",
         "8",
         "2021-01-11",
         "50"
        ],
        [
         "education",
         "500",
         "4",
         "High School or Below",
         "125"
        ],
        [
         "Gender",
         "500",
         "2",
         "male",
         "250"
        ]
       ],
       "shape": {
        "columns": 4,
        "rows": 7
       }
      },
      "text/html": [
       "<div>\n",
       "<style scoped>\n",
       "    .dataframe tbody tr th:only-of-type {\n",
       "        vertical-align: middle;\n",
       "    }\n",
       "\n",
       "    .dataframe tbody tr th {\n",
       "        vertical-align: top;\n",
       "    }\n",
       "\n",
       "    .dataframe thead th {\n",
       "        text-align: right;\n",
       "    }\n",
       "</style>\n",
       "<table border=\"1\" class=\"dataframe\">\n",
       "  <thead>\n",
       "    <tr style=\"text-align: right;\">\n",
       "      <th></th>\n",
       "      <th>count</th>\n",
       "      <th>unique</th>\n",
       "      <th>top</th>\n",
       "      <th>freq</th>\n",
       "    </tr>\n",
       "  </thead>\n",
       "  <tbody>\n",
       "    <tr>\n",
       "      <th>Loan_ID</th>\n",
       "      <td>500</td>\n",
       "      <td>500</td>\n",
       "      <td>L1</td>\n",
       "      <td>1</td>\n",
       "    </tr>\n",
       "    <tr>\n",
       "      <th>loan_status</th>\n",
       "      <td>500</td>\n",
       "      <td>2</td>\n",
       "      <td>PAIDOFF</td>\n",
       "      <td>300</td>\n",
       "    </tr>\n",
       "    <tr>\n",
       "      <th>effective_date</th>\n",
       "      <td>500</td>\n",
       "      <td>500</td>\n",
       "      <td>2021-01-01</td>\n",
       "      <td>1</td>\n",
       "    </tr>\n",
       "    <tr>\n",
       "      <th>due_date</th>\n",
       "      <td>500</td>\n",
       "      <td>500</td>\n",
       "      <td>2021-01-08</td>\n",
       "      <td>1</td>\n",
       "    </tr>\n",
       "    <tr>\n",
       "      <th>paid_off_time</th>\n",
       "      <td>400</td>\n",
       "      <td>8</td>\n",
       "      <td>2021-01-11</td>\n",
       "      <td>50</td>\n",
       "    </tr>\n",
       "    <tr>\n",
       "      <th>education</th>\n",
       "      <td>500</td>\n",
       "      <td>4</td>\n",
       "      <td>High School or Below</td>\n",
       "      <td>125</td>\n",
       "    </tr>\n",
       "    <tr>\n",
       "      <th>Gender</th>\n",
       "      <td>500</td>\n",
       "      <td>2</td>\n",
       "      <td>male</td>\n",
       "      <td>250</td>\n",
       "    </tr>\n",
       "  </tbody>\n",
       "</table>\n",
       "</div>"
      ],
      "text/plain": [
       "               count unique                   top freq\n",
       "Loan_ID          500    500                    L1    1\n",
       "loan_status      500      2               PAIDOFF  300\n",
       "effective_date   500    500            2021-01-01    1\n",
       "due_date         500    500            2021-01-08    1\n",
       "paid_off_time    400      8            2021-01-11   50\n",
       "education        500      4  High School or Below  125\n",
       "Gender           500      2                  male  250"
      ]
     },
     "execution_count": 32,
     "metadata": {},
     "output_type": "execute_result"
    }
   ],
   "source": [
    "loan_df.describe(include = \"object\").T "
   ]
  },
  {
   "cell_type": "markdown",
   "id": "413f07e8",
   "metadata": {},
   "source": [
    "## 1.9. Eksik Değerlerin Sayısının Gösterilmesi"
   ]
  },
  {
   "cell_type": "code",
   "execution_count": 51,
   "id": "0a8c824c",
   "metadata": {},
   "outputs": [
    {
     "name": "stdout",
     "output_type": "stream",
     "text": [
      "100\n"
     ]
    }
   ],
   "source": [
    "# Bos veri var mi\n",
    "total_null_values = loan_df.isnull().sum().sum() \n",
    "print(total_null_values)"
   ]
  },
  {
   "cell_type": "code",
   "execution_count": 52,
   "id": "fe2c65e9",
   "metadata": {},
   "outputs": [
    {
     "name": "stdout",
     "output_type": "stream",
     "text": [
      "paid_off_time sutununda 100 adet eksik deger var.\n"
     ]
    }
   ],
   "source": [
    "for col in loan_df.columns:\n",
    "    if loan_df[col].isnull().sum() > 0:\n",
    "        print(f\"{col} sutununda {loan_df[col].isnull().sum()} adet eksik deger var.\")"
   ]
  },
  {
   "cell_type": "markdown",
   "id": "aca6d1f4",
   "metadata": {},
   "source": [
    "## 1.10. Info Metodu ile Veri Seti Hakkında Genel Bilgi"
   ]
  },
  {
   "cell_type": "code",
   "execution_count": 34,
   "id": "f786bbd9",
   "metadata": {},
   "outputs": [
    {
     "name": "stdout",
     "output_type": "stream",
     "text": [
      "<class 'pandas.core.frame.DataFrame'>\n",
      "RangeIndex: 500 entries, 0 to 499\n",
      "Data columns (total 11 columns):\n",
      " #   Column          Non-Null Count  Dtype \n",
      "---  ------          --------------  ----- \n",
      " 0   Loan_ID         500 non-null    object\n",
      " 1   loan_status     500 non-null    object\n",
      " 2   Principal       500 non-null    int64 \n",
      " 3   terms           500 non-null    int64 \n",
      " 4   effective_date  500 non-null    object\n",
      " 5   due_date        500 non-null    object\n",
      " 6   paid_off_time   400 non-null    object\n",
      " 7   past_due_days   500 non-null    int64 \n",
      " 8   age             500 non-null    int64 \n",
      " 9   education       500 non-null    object\n",
      " 10  Gender          500 non-null    object\n",
      "dtypes: int64(4), object(7)\n",
      "memory usage: 43.1+ KB\n"
     ]
    }
   ],
   "source": [
    "loan_df.info()"
   ]
  },
  {
   "cell_type": "markdown",
   "id": "34c62ee1",
   "metadata": {},
   "source": [
    "## 1.11. Bazı Sütunların Value Counts Methodu ile Dağılımının Gösterilmesi"
   ]
  },
  {
   "cell_type": "code",
   "execution_count": 35,
   "id": "fec39741",
   "metadata": {},
   "outputs": [
    {
     "name": "stdout",
     "output_type": "stream",
     "text": [
      "loan_status sutununun deger sayisi:\n",
      " loan_status\n",
      "PAIDOFF       300\n",
      "COLLECTION    200\n",
      "Name: count, dtype: int64\n",
      "\n",
      "paid_off_time sutununun deger sayisi:\n",
      " paid_off_time\n",
      "2021-01-11    50\n",
      "2021-01-12    50\n",
      "2021-01-13    50\n",
      "2021-01-14    50\n",
      "2021-01-16    50\n",
      "2021-01-17    50\n",
      "2021-01-18    50\n",
      "2021-01-19    50\n",
      "Name: count, dtype: int64\n",
      "\n",
      "education sutununun deger sayisi:\n",
      " education\n",
      "High School or Below    125\n",
      "college                 125\n",
      "Bechalor                125\n",
      "Master or Above         125\n",
      "Name: count, dtype: int64\n",
      "\n",
      "Gender sutununun deger sayisi:\n",
      " Gender\n",
      "male      250\n",
      "female    250\n",
      "Name: count, dtype: int64\n",
      "\n",
      "Principal sutununun deger sayisi:\n",
      " Principal\n",
      "1000    100\n",
      "1500    100\n",
      "2000    100\n",
      "2500    100\n",
      "3000    100\n",
      "Name: count, dtype: int64\n",
      "\n",
      "terms sutununun deger sayisi:\n",
      " terms\n",
      "7     167\n",
      "15    167\n",
      "30    166\n",
      "Name: count, dtype: int64\n",
      "\n",
      "past_due_days sutununun deger sayisi:\n",
      " past_due_days\n",
      "0    450\n",
      "5     50\n",
      "Name: count, dtype: int64\n",
      "\n"
     ]
    }
   ],
   "source": [
    "for col in cat_cols:\n",
    "    print(f\"{col} sutununun deger sayisi:\\n {loan_df[col].value_counts()}\\n\")"
   ]
  },
  {
   "cell_type": "code",
   "execution_count": null,
   "id": "4dd10187",
   "metadata": {},
   "outputs": [
    {
     "data": {
      "application/vnd.microsoft.datawrangler.viewer.v0+json": {
       "columns": [
        {
         "name": "loan_status",
         "rawType": "object",
         "type": "string"
        },
        {
         "name": "count",
         "rawType": "int64",
         "type": "integer"
        }
       ],
       "ref": "3c96037c-38b5-4693-bbec-c809ad8df7c5",
       "rows": [
        [
         "PAIDOFF",
         "300"
        ],
        [
         "COLLECTION",
         "200"
        ]
       ],
       "shape": {
        "columns": 1,
        "rows": 2
       }
      },
      "text/plain": [
       "loan_status\n",
       "PAIDOFF       300\n",
       "COLLECTION    200\n",
       "Name: count, dtype: int64"
      ]
     },
     "execution_count": 36,
     "metadata": {},
     "output_type": "execute_result"
    }
   ],
   "source": [
    "loan_df['loan_status'].value_counts()\n"
   ]
  },
  {
   "cell_type": "markdown",
   "id": "226b3123",
   "metadata": {},
   "source": [
    "## 1.12. Show Cat Cols ile Kategorik Sütunların Görselleştirilmesi:"
   ]
  },
  {
   "cell_type": "code",
   "execution_count": null,
   "id": "96854dc3",
   "metadata": {},
   "outputs": [
    {
     "name": "stdout",
     "output_type": "stream",
     "text": [
      "LOAN_STATUS Sutununun Deger Sayisi:\n",
      " loan_status\n",
      "PAIDOFF       300\n",
      "COLLECTION    200\n",
      "Name: count, dtype: int64\n",
      "\n"
     ]
    },
    {
     "data": {
      "image/png": "[encoded data removed]",
      "text/plain": [
       "<Figure size 1000x600 with 1 Axes>"
      ]
     },
     "metadata": {},
     "output_type": "display_data"
    },
    {
     "name": "stdout",
     "output_type": "stream",
     "text": [
      "PAID_OFF_TIME Sutununun Deger Sayisi:\n",
      " paid_off_time\n",
      "2021-01-11    50\n",
      "2021-01-12    50\n",
      "2021-01-13    50\n",
      "2021-01-14    50\n",
      "2021-01-16    50\n",
      "2021-01-17    50\n",
      "2021-01-18    50\n",
      "2021-01-19    50\n",
      "Name: count, dtype: int64\n",
      "\n"
     ]
    },
    {
     "data": {
      "image/png": "[encoded data removed]",
      "text/plain": [
       "<Figure size 1000x600 with 1 Axes>"
      ]
     },
     "metadata": {},
     "output_type": "display_data"
    },
    {
     "name": "stdout",
     "output_type": "stream",
     "text": [
      "EDUCATION Sutununun Deger Sayisi:\n",
      " education\n",
      "High School or Below    125\n",
      "college                 125\n",
      "Bechalor                125\n",
      "Master or Above         125\n",
      "Name: count, dtype: int64\n",
      "\n"
     ]
    },
    {
     "data": {
      "image/png": "[encoded data removed]",
      "text/plain": [
       "<Figure size 1000x600 with 1 Axes>"
      ]
     },
     "metadata": {},
     "output_type": "display_data"
    },
    {
     "name": "stdout",
     "output_type": "stream",
     "text": [
      "GENDER Sutununun Deger Sayisi:\n",
      " Gender\n",
      "male      250\n",
      "female    250\n",
      "Name: count, dtype: int64\n",
      "\n"
     ]
    },
    {
     "data": {
      "image/png": "[encoded data removed]",
      "text/plain": [
       "<Figure size 1000x600 with 1 Axes>"
      ]
     },
     "metadata": {},
     "output_type": "display_data"
    },
    {
     "name": "stdout",
     "output_type": "stream",
     "text": [
      "PRINCIPAL Sutununun Deger Sayisi:\n",
      " Principal\n",
      "1000    100\n",
      "1500    100\n",
      "2000    100\n",
      "2500    100\n",
      "3000    100\n",
      "Name: count, dtype: int64\n",
      "\n"
     ]
    },
    {
     "data": {
      "image/png": "[encoded data removed]",
      "text/plain": [
       "<Figure size 1000x600 with 1 Axes>"
      ]
     },
     "metadata": {},
     "output_type": "display_data"
    },
    {
     "name": "stdout",
     "output_type": "stream",
     "text": [
      "TERMS Sutununun Deger Sayisi:\n",
      " terms\n",
      "7     167\n",
      "15    167\n",
      "30    166\n",
      "Name: count, dtype: int64\n",
      "\n"
     ]
    },
    {
     "data": {
      "image/png": "[encoded data removed]",
      "text/plain": [
       "<Figure size 1000x600 with 1 Axes>"
      ]
     },
     "metadata": {},
     "output_type": "display_data"
    },
    {
     "name": "stdout",
     "output_type": "stream",
     "text": [
      "PAST_DUE_DAYS Sutununun Deger Sayisi:\n",
      " past_due_days\n",
      "0    450\n",
      "5     50\n",
      "Name: count, dtype: int64\n",
      "\n"
     ]
    },
    {
     "data": {
      "image/png": "[encoded data removed]",
      "text/plain": [
       "<Figure size 1000x600 with 1 Axes>"
      ]
     },
     "metadata": {},
     "output_type": "display_data"
    }
   ],
   "source": [
    "def show_cat_cols(dataframe, cat_cols, plot = False):\n",
    "    df = dataframe.copy()\n",
    "    for col in cat_cols:\n",
    "        print(f\"{col.upper()} Sutununun Deger Sayisi:\\n {df[col].value_counts()}\\n\")\n",
    "        if plot:\n",
    "            plt.figure(figsize = (10, 6))\n",
    "            sns.countplot(x = df[col], data = df, palette=\"Set2\")\n",
    "            plt.title(f\"{col.upper()} Sutununun Deger Sayisi\")\n",
    "            plt.xlabel(col)\n",
    "            plt.ylabel(\"Frekans\")\n",
    "            plt.tight_layout()\n",
    "            plt.show()\n",
    "        else:\n",
    "            print(\"Lutfen plot parametresini True yapiniz.\")\n",
    "\n",
    "show_cat_cols(loan_df, cat_cols, plot = True)"
   ]
  },
  {
   "cell_type": "markdown",
   "id": "ac3c6f9a",
   "metadata": {},
   "source": [
    "## 1.13. Show Num Cols ile Sayısal Sütunların Görselleştirilmesi"
   ]
  },
  {
   "cell_type": "code",
   "execution_count": 43,
   "id": "0ba67b62",
   "metadata": {},
   "outputs": [
    {
     "name": "stdout",
     "output_type": "stream",
     "text": [
      "AGE Sutununun Betimsel Istatistikleri:\n",
      " count    500.000000\n",
      "mean      39.100000\n",
      "std       11.548018\n",
      "min       20.000000\n",
      "25%       29.000000\n",
      "50%       39.000000\n",
      "75%       49.000000\n",
      "max       59.000000\n",
      "Name: age, dtype: float64\n",
      "\n"
     ]
    },
    {
     "data": {
      "image/png": "[encoded data removed]",
      "text/plain": [
       "<Figure size 1000x600 with 1 Axes>"
      ]
     },
     "metadata": {},
     "output_type": "display_data"
    }
   ],
   "source": [
    "def show_num_cols(dataframe, num_cols, plot = False):\n",
    "    df = dataframe.copy()\n",
    "    for col in num_cols:\n",
    "        print(f\"{col.upper()} Sutununun Betimsel Istatistikleri:\\n {df[col].describe().T}\\n\")\n",
    "        if plot:\n",
    "            plt.figure(figsize = (10, 6))\n",
    "            sns.histplot(x = df[col], data = df, kde = True, color = 'forestgreen')\n",
    "            plt.title(f\"{col.upper()} Sutununun Dagilimi\")\n",
    "            plt.xlabel(col)\n",
    "            plt.ylabel(\"Frekans\")\n",
    "            plt.tight_layout()\n",
    "            plt.show()\n",
    "        else:\n",
    "            print(\"Lutfen plot parametresini True yapiniz.\")\n",
    "\n",
    "show_num_cols(loan_df, num_cols, plot = True)"
   ]
  },
  {
   "cell_type": "markdown",
   "id": "fcd2cbb0",
   "metadata": {},
   "source": [
    "## 1.14. Check Outlier Fonksiyonu ile Aykırı Değer Tespiti"
   ]
  },
  {
   "cell_type": "code",
   "execution_count": 46,
   "id": "19d394a4",
   "metadata": {},
   "outputs": [],
   "source": [
    "def check_outlier(dataframe, num_cols, q1 = 0.25, q3 = 0.75, plot = False):\n",
    "    df = dataframe.copy()\n",
    "    outlier_dict = {}\n",
    "    for col in num_cols:\n",
    "        Q1 = df[col].quantile(q1)\n",
    "        Q3 = df[col].quantile(q3)\n",
    "        IQR = Q3 - Q1\n",
    "        low_limit = Q1 - 1.5 * IQR\n",
    "        up_limit = Q3 + 1.5 * IQR\n",
    "        if df[(df[col] < low_limit) | (df[col] > up_limit)].any(axis=None):\n",
    "            outlier_dict[col] = True # aykiri deger var\n",
    "        else:\n",
    "            outlier_dict[col] = False # herhangi bir aykiri deger yok\n",
    "    \n",
    "    # Bunu gorsellestirelim. En iyi yontem kutu grafigi olacaktir.\n",
    "    if plot:\n",
    "        for col in num_cols:\n",
    "            plt.figure(figsize = (10, 6))\n",
    "            sns.boxplot(x = df[col], data = df, color = 'lightblue')\n",
    "            plt.title(f\"{col.upper()} Sutununun Boxplot Grafiği\")\n",
    "            plt.xlabel(col)\n",
    "            plt.tight_layout()\n",
    "            plt.show()\n",
    "    return outlier_dict"
   ]
  },
  {
   "cell_type": "code",
   "execution_count": 45,
   "id": "830c1206",
   "metadata": {},
   "outputs": [
    {
     "data": {
      "image/png": "[encoded data removed]",
      "text/plain": [
       "<Figure size 1000x600 with 1 Axes>"
      ]
     },
     "metadata": {},
     "output_type": "display_data"
    },
    {
     "data": {
      "text/plain": [
       "{'age': False}"
      ]
     },
     "execution_count": 45,
     "metadata": {},
     "output_type": "execute_result"
    }
   ],
   "source": [
    "check_outlier(loan_df, num_cols, plot = True)"
   ]
  }
 ],
 "metadata": {
  "kernelspec": {
   "display_name": "ds360",
   "language": "python",
   "name": "python3"
  },
  "language_info": {
   "codemirror_mode": {
    "name": "ipython",
    "version": 3
   },
   "file_extension": ".py",
   "mimetype": "text/x-python",
   "name": "python",
   "nbconvert_exporter": "python",
   "pygments_lexer": "ipython3",
   "version": "3.11.13"
  }
 },
 "nbformat": 4,
 "nbformat_minor": 5
}
