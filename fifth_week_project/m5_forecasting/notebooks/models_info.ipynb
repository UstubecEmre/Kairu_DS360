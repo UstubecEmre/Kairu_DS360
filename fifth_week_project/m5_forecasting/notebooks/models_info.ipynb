{
 "cells": [
  {
   "cell_type": "markdown",
   "id": "a98ff4f5",
   "metadata": {},
   "source": [
    "# **1. Kullanılacak Modeller:**\n",
    "M5 Veri seti, 5 yıl önce gerçekleştirilen University of Nicosia · Featured Prediction Competition yarışmasında kullanılmıştır. \n",
    "\n",
    "Veri seti, zaman serisi kullanılarak tahminleme gerçekleştirilmesini sağlayabilecek niteliktedir.\n",
    "\n",
    "Burada tek bir ürün üzerinde gerçekleştirilecek satışların tahminlemesi için:\n",
    "- ARIMA\n",
    "\n",
    "- Prophet\n",
    "\n",
    "modelleri kullanılmıştır.\n",
    "\n",
    "Çoklu ürünlerin tahminlemesini gerçekleştirmek için ise makine öğrenmesinin güçlü modellerinden olan \n",
    "LightGBM kullanılmıştır. \n",
    "\n",
    "Burada tahmin edilen değer sayısal bir değişken olduğundan kaynaklı <bold>regresyon problemi</bold> çözmemiz gerektiğini bilmeli ve ona göre kullanılacak olan değerlendirme metriklerini (mean absolute error, mean squared error, R2, root mean squared error, mean absolute percentage error, symmetric mean absolute percentage error vb.) kullanmamız gerekmektedir.\n",
    "\n",
    "\n",
    "\n"
   ]
  },
  {
   "cell_type": "markdown",
   "id": "f043f6b3",
   "metadata": {},
   "source": [
    "## **1.1.ARIMA Modeli**:\n",
    "<mark><b>ARIMA (AutoRegressive Integrated Moving Average)</b></mark>, istatistiksel temelli bir modeldir.\n",
    "\n",
    "Zaman serisi analizlerinde tercih edilebilir.\n",
    "\n",
    "Model başarısını artırmak ve bu modeli kullanmak için bir takım özelliklerin sağlanmış olması gerekmektedir.\n",
    "Örneği, veri setinin durağan olması bu model için önemlidir.\n",
    "Eğer ki durağanlık yoksa Fark Alma (integration) adımıyla bu durağanlığı sağlamamız gerekmektedir.\n",
    "\n",
    "Basit ve kısa vadeli tahmin gerçekleştirmemiz gereken veri setlerinde tercih edebiliriz\n",
    "\n",
    "Diğer modellere kıyasla, işlemleri manuel olarak gerçekleştirmemiz gerektiği durumlar söz konusudur.\n",
    "\n",
    "Örneğin:\n",
    "    (p, d, q): parametrelerinin ayarlanması\n",
    "    - p (AR derecesi), \n",
    "    \n",
    "    - d (Fark alma derecesi), \n",
    "    \n",
    "    - q (MA derecesi).\n",
    "\n",
    "\n",
    "## **1.2. SARIMA Modeli**:\n",
    "<mark><b>SARIMA, (Seasonal AutoRegressive Integrated Moving Average)</b></mark>, ARIMA'nın mevsimselliğe karşı göstermiş olduğu başarısızlığı gidermek amacıyla geliştirilmiş bir yaklaşımdır.\n",
    "\n",
    "ARIMA'nın geliştirilmiş versiyonu olarak düşünebiliriz. Bu modeli de:\n",
    "Güçlü bir mevsimselliğe sahip veri setlerinde tercih edebiliriz. Burada da manuel olarak parametrelerin ayarlanması söz konusudur.\n",
    "\n",
    "## **1.3. Prophet Modeli**:\n",
    "Meta (eski adıyla Facebook) tarafından geliştirilen, modern bir modeldir.\n",
    "\n",
    "Kullanıcılarak kolaylık, hız ve iş odaklılık sağlamaktadır. Örneğin eksik veriyle iyi çalışabilir, tatilleri, özel günleri vb. analizimizde fark yaratabilecek durumları hesaba katabilir.\n",
    "\n",
    "<mark><b>ARIMA</b></mark> ve <mark><b>SARIMA</b></mark> modellerinde yer alan manuel işlemlerin yerine otomatikleştirilmiş parametre seçimi sağlamaktadır. \n",
    "\n",
    "## **1.4. LightGBM Modeli**:\n",
    "<mark><b>LightGBM modeli</b></mark>, makine öğrenmesi algoritmalarından ensemble yani topluluk öğrenmesinin boosting alt kümesine ait olan bir modeldir.\n",
    "\n",
    "Bu modelden daha iyi neticeler alabilmemiz için veri seti üzerinde öznitelik mühendisliği (feature engineering) gerçekleştirmiş olmamız gerekmetkedir.\n",
    "\n",
    "Son derece hızlıdır ve bellek verimliliği yüksektir.\n",
    "\n",
    "Doğrusal olmayan ilişkilerde yüksek performans göstermektedir.\n",
    "\n",
    "Bu çalışmamızda ARIMA ve Prophet tek bir ürün için tahminleme gerçekleştirirken; LightGBM çoklu ürün için tahminleme gerçekleştirmiştir.\n",
    "\n"
   ]
  },
  {
   "cell_type": "markdown",
   "id": "038e4bb2",
   "metadata": {},
   "source": []
  }
 ],
 "metadata": {
  "language_info": {
   "name": "python"
  }
 },
 "nbformat": 4,
 "nbformat_minor": 5
}
